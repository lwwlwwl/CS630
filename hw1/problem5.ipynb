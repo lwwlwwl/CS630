{
 "cells": [
  {
   "cell_type": "code",
   "execution_count": 1,
   "metadata": {},
   "outputs": [],
   "source": [
    "import math\n",
    "\n",
    "# Define the letter frequencies and counts\n",
    "letter_counts = {\n",
    "    'E': 12000,'T': 9000, 'A': 8000, 'I': 8000, 'N': 8000, 'O': 8000, 'S': 8000, \n",
    "    'H': 6400, 'R': 6200, 'D': 4400, 'L': 4000, 'U': 3400, 'C': 3000, 'M': 3000,\n",
    "    'F': 2500, 'W': 2000, 'Y': 2000, 'G': 1700, 'P': 1700, 'B': 1600, 'V': 1200,\n",
    "    'K': 800, 'Q': 500, 'J': 400, 'X': 400, 'Z': 200\n",
    "}"
   ]
  },
  {
   "cell_type": "code",
   "execution_count": 2,
   "metadata": {},
   "outputs": [
    {
     "name": "stdout",
     "output_type": "stream",
     "text": [
      "total_count: 106400\n"
     ]
    }
   ],
   "source": [
    "# Calculate the total count of letters\n",
    "total_count = sum(letter_counts.values())\n",
    "print(\"total_count:\", total_count)"
   ]
  },
  {
   "cell_type": "code",
   "execution_count": 3,
   "metadata": {},
   "outputs": [
    {
     "name": "stdout",
     "output_type": "stream",
     "text": [
      "Entropy of the random variable X: 4.22437943\n"
     ]
    }
   ],
   "source": [
    "# Calculate the probabilities (p(x)) for each letter\n",
    "letter_probabilities = {letter: count / total_count for letter, count in letter_counts.items()}\n",
    "\n",
    "# Calculate the entropy for each letter and sum them up\n",
    "entropy = -sum(p * math.log2(p) for p in letter_probabilities.values())\n",
    "\n",
    "# Print the entropy\n",
    "print(f\"Entropy of the random variable X: {entropy:.8f}\")"
   ]
  },
  {
   "cell_type": "code",
   "execution_count": 4,
   "metadata": {},
   "outputs": [
    {
     "name": "stdout",
     "output_type": "stream",
     "text": [
      "Entropy of uniform distribution on 26 letters: 4.70043972\n"
     ]
    }
   ],
   "source": [
    "uniform_p = 1/len(letter_counts)\n",
    "unfiorm_entropy = -sum(uniform_p * math.log2(uniform_p) for _ in letter_counts)\n",
    "print(f\"Entropy of uniform distribution on 26 letters: {unfiorm_entropy:.8f}\")"
   ]
  }
 ],
 "metadata": {
  "kernelspec": {
   "display_name": "Python 3",
   "language": "python",
   "name": "python3"
  },
  "language_info": {
   "codemirror_mode": {
    "name": "ipython",
    "version": 3
   },
   "file_extension": ".py",
   "mimetype": "text/x-python",
   "name": "python",
   "nbconvert_exporter": "python",
   "pygments_lexer": "ipython3",
   "version": "3.11.5"
  },
  "orig_nbformat": 4
 },
 "nbformat": 4,
 "nbformat_minor": 2
}
